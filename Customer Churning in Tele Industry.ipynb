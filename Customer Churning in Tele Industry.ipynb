{
 "cells": [
  {
   "cell_type": "code",
   "execution_count": 1,
   "metadata": {},
   "outputs": [],
   "source": [
    "import pandas as pd\n",
    "import numpy as np\n",
    "import matplotlib.pyplot as plt\n",
    "import seaborn as sns\n",
    "%matplotlib inline\n",
    "plt.rcParams[\"figure.figsize\"]=(15,5)\n",
    "from sklearn.metrics import accuracy_score\n",
    "from sklearn import metrics\n",
    "from sklearn.metrics import confusion_matrix"
   ]
  },
  {
   "cell_type": "code",
   "execution_count": 2,
   "metadata": {},
   "outputs": [],
   "source": [
    "columns =['State','Account_Len','Area','Ph_No.','Int_Plan','Vmail_Plan','messgs',\n",
    "            'tot_day_mins','tot_day_calls','tot_day_chrgs','tot_evening_mins',\n",
    "            'tot_evening_calls','tot_evening_chrgs','tot_ngt_mins','tot_ngt_calls',\n",
    "            'tot_ngt_chrgs','tot_int_mins','tot_int_calls','tot_int_chrgs',\n",
    "'cust_calls_made','churn_status']\n",
    "\n",
    "df = pd.read_csv(\"F:/churn.txt\",names=columns)\n"
   ]
  },
  {
   "cell_type": "code",
   "execution_count": 3,
   "metadata": {},
   "outputs": [],
   "source": [
    "data = df[1:]"
   ]
  },
  {
   "cell_type": "code",
   "execution_count": 4,
   "metadata": {
    "scrolled": false
   },
   "outputs": [
    {
     "data": {
      "text/html": [
       "<div>\n",
       "<style scoped>\n",
       "    .dataframe tbody tr th:only-of-type {\n",
       "        vertical-align: middle;\n",
       "    }\n",
       "\n",
       "    .dataframe tbody tr th {\n",
       "        vertical-align: top;\n",
       "    }\n",
       "\n",
       "    .dataframe thead th {\n",
       "        text-align: right;\n",
       "    }\n",
       "</style>\n",
       "<table border=\"1\" class=\"dataframe\">\n",
       "  <thead>\n",
       "    <tr style=\"text-align: right;\">\n",
       "      <th></th>\n",
       "      <th>State</th>\n",
       "      <th>Account_Len</th>\n",
       "      <th>Area</th>\n",
       "      <th>Ph_No.</th>\n",
       "      <th>Int_Plan</th>\n",
       "      <th>Vmail_Plan</th>\n",
       "      <th>messgs</th>\n",
       "      <th>tot_day_mins</th>\n",
       "      <th>tot_day_calls</th>\n",
       "      <th>tot_day_chrgs</th>\n",
       "      <th>...</th>\n",
       "      <th>tot_evening_calls</th>\n",
       "      <th>tot_evening_chrgs</th>\n",
       "      <th>tot_ngt_mins</th>\n",
       "      <th>tot_ngt_calls</th>\n",
       "      <th>tot_ngt_chrgs</th>\n",
       "      <th>tot_int_mins</th>\n",
       "      <th>tot_int_calls</th>\n",
       "      <th>tot_int_chrgs</th>\n",
       "      <th>cust_calls_made</th>\n",
       "      <th>churn_status</th>\n",
       "    </tr>\n",
       "  </thead>\n",
       "  <tbody>\n",
       "    <tr>\n",
       "      <th>1</th>\n",
       "      <td>KS</td>\n",
       "      <td>128</td>\n",
       "      <td>415</td>\n",
       "      <td>382-4657</td>\n",
       "      <td>no</td>\n",
       "      <td>yes</td>\n",
       "      <td>25</td>\n",
       "      <td>265.100000</td>\n",
       "      <td>110</td>\n",
       "      <td>45.070000</td>\n",
       "      <td>...</td>\n",
       "      <td>99</td>\n",
       "      <td>16.780000</td>\n",
       "      <td>244.700000</td>\n",
       "      <td>91</td>\n",
       "      <td>11.010000</td>\n",
       "      <td>10.000000</td>\n",
       "      <td>3</td>\n",
       "      <td>2.700000</td>\n",
       "      <td>1</td>\n",
       "      <td>False.</td>\n",
       "    </tr>\n",
       "    <tr>\n",
       "      <th>2</th>\n",
       "      <td>OH</td>\n",
       "      <td>107</td>\n",
       "      <td>415</td>\n",
       "      <td>371-7191</td>\n",
       "      <td>no</td>\n",
       "      <td>yes</td>\n",
       "      <td>26</td>\n",
       "      <td>161.600000</td>\n",
       "      <td>123</td>\n",
       "      <td>27.470000</td>\n",
       "      <td>...</td>\n",
       "      <td>103</td>\n",
       "      <td>16.620000</td>\n",
       "      <td>254.400000</td>\n",
       "      <td>103</td>\n",
       "      <td>11.450000</td>\n",
       "      <td>13.700000</td>\n",
       "      <td>3</td>\n",
       "      <td>3.700000</td>\n",
       "      <td>1</td>\n",
       "      <td>False.</td>\n",
       "    </tr>\n",
       "    <tr>\n",
       "      <th>3</th>\n",
       "      <td>NJ</td>\n",
       "      <td>137</td>\n",
       "      <td>415</td>\n",
       "      <td>358-1921</td>\n",
       "      <td>no</td>\n",
       "      <td>no</td>\n",
       "      <td>0</td>\n",
       "      <td>243.400000</td>\n",
       "      <td>114</td>\n",
       "      <td>41.380000</td>\n",
       "      <td>...</td>\n",
       "      <td>110</td>\n",
       "      <td>10.300000</td>\n",
       "      <td>162.600000</td>\n",
       "      <td>104</td>\n",
       "      <td>7.320000</td>\n",
       "      <td>12.200000</td>\n",
       "      <td>5</td>\n",
       "      <td>3.290000</td>\n",
       "      <td>0</td>\n",
       "      <td>False.</td>\n",
       "    </tr>\n",
       "    <tr>\n",
       "      <th>4</th>\n",
       "      <td>OH</td>\n",
       "      <td>84</td>\n",
       "      <td>408</td>\n",
       "      <td>375-9999</td>\n",
       "      <td>yes</td>\n",
       "      <td>no</td>\n",
       "      <td>0</td>\n",
       "      <td>299.400000</td>\n",
       "      <td>71</td>\n",
       "      <td>50.900000</td>\n",
       "      <td>...</td>\n",
       "      <td>88</td>\n",
       "      <td>5.260000</td>\n",
       "      <td>196.900000</td>\n",
       "      <td>89</td>\n",
       "      <td>8.860000</td>\n",
       "      <td>6.600000</td>\n",
       "      <td>7</td>\n",
       "      <td>1.780000</td>\n",
       "      <td>2</td>\n",
       "      <td>False.</td>\n",
       "    </tr>\n",
       "    <tr>\n",
       "      <th>5</th>\n",
       "      <td>OK</td>\n",
       "      <td>75</td>\n",
       "      <td>415</td>\n",
       "      <td>330-6626</td>\n",
       "      <td>yes</td>\n",
       "      <td>no</td>\n",
       "      <td>0</td>\n",
       "      <td>166.700000</td>\n",
       "      <td>113</td>\n",
       "      <td>28.340000</td>\n",
       "      <td>...</td>\n",
       "      <td>122</td>\n",
       "      <td>12.610000</td>\n",
       "      <td>186.900000</td>\n",
       "      <td>121</td>\n",
       "      <td>8.410000</td>\n",
       "      <td>10.100000</td>\n",
       "      <td>3</td>\n",
       "      <td>2.730000</td>\n",
       "      <td>3</td>\n",
       "      <td>False.</td>\n",
       "    </tr>\n",
       "  </tbody>\n",
       "</table>\n",
       "<p>5 rows × 21 columns</p>\n",
       "</div>"
      ],
      "text/plain": [
       "  State Account_Len Area    Ph_No. Int_Plan Vmail_Plan messgs tot_day_mins  \\\n",
       "1    KS         128  415  382-4657       no        yes     25   265.100000   \n",
       "2    OH         107  415  371-7191       no        yes     26   161.600000   \n",
       "3    NJ         137  415  358-1921       no         no      0   243.400000   \n",
       "4    OH          84  408  375-9999      yes         no      0   299.400000   \n",
       "5    OK          75  415  330-6626      yes         no      0   166.700000   \n",
       "\n",
       "  tot_day_calls tot_day_chrgs  ... tot_evening_calls tot_evening_chrgs  \\\n",
       "1           110     45.070000  ...                99         16.780000   \n",
       "2           123     27.470000  ...               103         16.620000   \n",
       "3           114     41.380000  ...               110         10.300000   \n",
       "4            71     50.900000  ...                88          5.260000   \n",
       "5           113     28.340000  ...               122         12.610000   \n",
       "\n",
       "  tot_ngt_mins tot_ngt_calls tot_ngt_chrgs tot_int_mins tot_int_calls  \\\n",
       "1   244.700000            91     11.010000    10.000000             3   \n",
       "2   254.400000           103     11.450000    13.700000             3   \n",
       "3   162.600000           104      7.320000    12.200000             5   \n",
       "4   196.900000            89      8.860000     6.600000             7   \n",
       "5   186.900000           121      8.410000    10.100000             3   \n",
       "\n",
       "  tot_int_chrgs cust_calls_made churn_status  \n",
       "1      2.700000               1       False.  \n",
       "2      3.700000               1       False.  \n",
       "3      3.290000               0       False.  \n",
       "4      1.780000               2       False.  \n",
       "5      2.730000               3       False.  \n",
       "\n",
       "[5 rows x 21 columns]"
      ]
     },
     "execution_count": 4,
     "metadata": {},
     "output_type": "execute_result"
    }
   ],
   "source": [
    "data.head()"
   ]
  },
  {
   "cell_type": "code",
   "execution_count": 5,
   "metadata": {},
   "outputs": [
    {
     "name": "stdout",
     "output_type": "stream",
     "text": [
      "<class 'pandas.core.frame.DataFrame'>\n",
      "RangeIndex: 3333 entries, 1 to 3333\n",
      "Data columns (total 21 columns):\n",
      "State                3333 non-null object\n",
      "Account_Len          3333 non-null object\n",
      "Area                 3333 non-null object\n",
      "Ph_No.               3333 non-null object\n",
      "Int_Plan             3333 non-null object\n",
      "Vmail_Plan           3333 non-null object\n",
      "messgs               3333 non-null object\n",
      "tot_day_mins         3333 non-null object\n",
      "tot_day_calls        3333 non-null object\n",
      "tot_day_chrgs        3333 non-null object\n",
      "tot_evening_mins     3333 non-null object\n",
      "tot_evening_calls    3333 non-null object\n",
      "tot_evening_chrgs    3333 non-null object\n",
      "tot_ngt_mins         3333 non-null object\n",
      "tot_ngt_calls        3333 non-null object\n",
      "tot_ngt_chrgs        3333 non-null object\n",
      "tot_int_mins         3333 non-null object\n",
      "tot_int_calls        3333 non-null object\n",
      "tot_int_chrgs        3333 non-null object\n",
      "cust_calls_made      3333 non-null object\n",
      "churn_status         3333 non-null object\n",
      "dtypes: object(21)\n",
      "memory usage: 546.9+ KB\n"
     ]
    }
   ],
   "source": [
    "data.info()"
   ]
  },
  {
   "cell_type": "code",
   "execution_count": 6,
   "metadata": {},
   "outputs": [
    {
     "data": {
      "text/plain": [
       "(3333, 21)"
      ]
     },
     "execution_count": 6,
     "metadata": {},
     "output_type": "execute_result"
    }
   ],
   "source": [
    "data.shape"
   ]
  },
  {
   "cell_type": "code",
   "execution_count": 7,
   "metadata": {},
   "outputs": [
    {
     "name": "stderr",
     "output_type": "stream",
     "text": [
      "C:\\Users\\SUNEEL\\Anaconda3\\lib\\site-packages\\ipykernel_launcher.py:1: SettingWithCopyWarning: \n",
      "A value is trying to be set on a copy of a slice from a DataFrame.\n",
      "Try using .loc[row_indexer,col_indexer] = value instead\n",
      "\n",
      "See the caveats in the documentation: http://pandas.pydata.org/pandas-docs/stable/indexing.html#indexing-view-versus-copy\n",
      "  \"\"\"Entry point for launching an IPython kernel.\n",
      "C:\\Users\\SUNEEL\\Anaconda3\\lib\\site-packages\\ipykernel_launcher.py:2: SettingWithCopyWarning: \n",
      "A value is trying to be set on a copy of a slice from a DataFrame.\n",
      "Try using .loc[row_indexer,col_indexer] = value instead\n",
      "\n",
      "See the caveats in the documentation: http://pandas.pydata.org/pandas-docs/stable/indexing.html#indexing-view-versus-copy\n",
      "  \n",
      "C:\\Users\\SUNEEL\\Anaconda3\\lib\\site-packages\\ipykernel_launcher.py:3: SettingWithCopyWarning: \n",
      "A value is trying to be set on a copy of a slice from a DataFrame.\n",
      "Try using .loc[row_indexer,col_indexer] = value instead\n",
      "\n",
      "See the caveats in the documentation: http://pandas.pydata.org/pandas-docs/stable/indexing.html#indexing-view-versus-copy\n",
      "  This is separate from the ipykernel package so we can avoid doing imports until\n"
     ]
    }
   ],
   "source": [
    "# Convesrting Binary object data type variable to integer data type\n",
    "data[\"Int_Plan\"] = np.where(data.Int_Plan ==\"yes\",1,0).astype(int)\n",
    "data[\"Vmail_Plan\"] = np.where(data.Vmail_Plan ==\"yes\",1,0).astype(int)\n",
    "data[\"churn_status\"] = np.where(data.churn_status ==\"True.\",1,0).astype(int)"
   ]
  },
  {
   "cell_type": "code",
   "execution_count": 9,
   "metadata": {},
   "outputs": [
    {
     "data": {
      "text/html": [
       "<div>\n",
       "<style scoped>\n",
       "    .dataframe tbody tr th:only-of-type {\n",
       "        vertical-align: middle;\n",
       "    }\n",
       "\n",
       "    .dataframe tbody tr th {\n",
       "        vertical-align: top;\n",
       "    }\n",
       "\n",
       "    .dataframe thead th {\n",
       "        text-align: right;\n",
       "    }\n",
       "</style>\n",
       "<table border=\"1\" class=\"dataframe\">\n",
       "  <thead>\n",
       "    <tr style=\"text-align: right;\">\n",
       "      <th></th>\n",
       "      <th>State</th>\n",
       "      <th>Account_Len</th>\n",
       "      <th>Area</th>\n",
       "      <th>Ph_No.</th>\n",
       "      <th>Int_Plan</th>\n",
       "      <th>Vmail_Plan</th>\n",
       "      <th>messgs</th>\n",
       "      <th>tot_day_mins</th>\n",
       "      <th>tot_day_calls</th>\n",
       "      <th>tot_day_chrgs</th>\n",
       "      <th>...</th>\n",
       "      <th>tot_evening_calls</th>\n",
       "      <th>tot_evening_chrgs</th>\n",
       "      <th>tot_ngt_mins</th>\n",
       "      <th>tot_ngt_calls</th>\n",
       "      <th>tot_ngt_chrgs</th>\n",
       "      <th>tot_int_mins</th>\n",
       "      <th>tot_int_calls</th>\n",
       "      <th>tot_int_chrgs</th>\n",
       "      <th>cust_calls_made</th>\n",
       "      <th>churn_status</th>\n",
       "    </tr>\n",
       "  </thead>\n",
       "  <tbody>\n",
       "    <tr>\n",
       "      <th>1</th>\n",
       "      <td>KS</td>\n",
       "      <td>128</td>\n",
       "      <td>415</td>\n",
       "      <td>382-4657</td>\n",
       "      <td>0</td>\n",
       "      <td>1</td>\n",
       "      <td>25</td>\n",
       "      <td>265.100000</td>\n",
       "      <td>110</td>\n",
       "      <td>45.070000</td>\n",
       "      <td>...</td>\n",
       "      <td>99</td>\n",
       "      <td>16.780000</td>\n",
       "      <td>244.700000</td>\n",
       "      <td>91</td>\n",
       "      <td>11.010000</td>\n",
       "      <td>10.000000</td>\n",
       "      <td>3</td>\n",
       "      <td>2.700000</td>\n",
       "      <td>1</td>\n",
       "      <td>0</td>\n",
       "    </tr>\n",
       "    <tr>\n",
       "      <th>2</th>\n",
       "      <td>OH</td>\n",
       "      <td>107</td>\n",
       "      <td>415</td>\n",
       "      <td>371-7191</td>\n",
       "      <td>0</td>\n",
       "      <td>1</td>\n",
       "      <td>26</td>\n",
       "      <td>161.600000</td>\n",
       "      <td>123</td>\n",
       "      <td>27.470000</td>\n",
       "      <td>...</td>\n",
       "      <td>103</td>\n",
       "      <td>16.620000</td>\n",
       "      <td>254.400000</td>\n",
       "      <td>103</td>\n",
       "      <td>11.450000</td>\n",
       "      <td>13.700000</td>\n",
       "      <td>3</td>\n",
       "      <td>3.700000</td>\n",
       "      <td>1</td>\n",
       "      <td>0</td>\n",
       "    </tr>\n",
       "    <tr>\n",
       "      <th>3</th>\n",
       "      <td>NJ</td>\n",
       "      <td>137</td>\n",
       "      <td>415</td>\n",
       "      <td>358-1921</td>\n",
       "      <td>0</td>\n",
       "      <td>0</td>\n",
       "      <td>0</td>\n",
       "      <td>243.400000</td>\n",
       "      <td>114</td>\n",
       "      <td>41.380000</td>\n",
       "      <td>...</td>\n",
       "      <td>110</td>\n",
       "      <td>10.300000</td>\n",
       "      <td>162.600000</td>\n",
       "      <td>104</td>\n",
       "      <td>7.320000</td>\n",
       "      <td>12.200000</td>\n",
       "      <td>5</td>\n",
       "      <td>3.290000</td>\n",
       "      <td>0</td>\n",
       "      <td>0</td>\n",
       "    </tr>\n",
       "    <tr>\n",
       "      <th>4</th>\n",
       "      <td>OH</td>\n",
       "      <td>84</td>\n",
       "      <td>408</td>\n",
       "      <td>375-9999</td>\n",
       "      <td>1</td>\n",
       "      <td>0</td>\n",
       "      <td>0</td>\n",
       "      <td>299.400000</td>\n",
       "      <td>71</td>\n",
       "      <td>50.900000</td>\n",
       "      <td>...</td>\n",
       "      <td>88</td>\n",
       "      <td>5.260000</td>\n",
       "      <td>196.900000</td>\n",
       "      <td>89</td>\n",
       "      <td>8.860000</td>\n",
       "      <td>6.600000</td>\n",
       "      <td>7</td>\n",
       "      <td>1.780000</td>\n",
       "      <td>2</td>\n",
       "      <td>0</td>\n",
       "    </tr>\n",
       "    <tr>\n",
       "      <th>5</th>\n",
       "      <td>OK</td>\n",
       "      <td>75</td>\n",
       "      <td>415</td>\n",
       "      <td>330-6626</td>\n",
       "      <td>1</td>\n",
       "      <td>0</td>\n",
       "      <td>0</td>\n",
       "      <td>166.700000</td>\n",
       "      <td>113</td>\n",
       "      <td>28.340000</td>\n",
       "      <td>...</td>\n",
       "      <td>122</td>\n",
       "      <td>12.610000</td>\n",
       "      <td>186.900000</td>\n",
       "      <td>121</td>\n",
       "      <td>8.410000</td>\n",
       "      <td>10.100000</td>\n",
       "      <td>3</td>\n",
       "      <td>2.730000</td>\n",
       "      <td>3</td>\n",
       "      <td>0</td>\n",
       "    </tr>\n",
       "  </tbody>\n",
       "</table>\n",
       "<p>5 rows × 21 columns</p>\n",
       "</div>"
      ],
      "text/plain": [
       "  State Account_Len Area    Ph_No.  Int_Plan  Vmail_Plan messgs tot_day_mins  \\\n",
       "1    KS         128  415  382-4657         0           1     25   265.100000   \n",
       "2    OH         107  415  371-7191         0           1     26   161.600000   \n",
       "3    NJ         137  415  358-1921         0           0      0   243.400000   \n",
       "4    OH          84  408  375-9999         1           0      0   299.400000   \n",
       "5    OK          75  415  330-6626         1           0      0   166.700000   \n",
       "\n",
       "  tot_day_calls tot_day_chrgs  ... tot_evening_calls tot_evening_chrgs  \\\n",
       "1           110     45.070000  ...                99         16.780000   \n",
       "2           123     27.470000  ...               103         16.620000   \n",
       "3           114     41.380000  ...               110         10.300000   \n",
       "4            71     50.900000  ...                88          5.260000   \n",
       "5           113     28.340000  ...               122         12.610000   \n",
       "\n",
       "  tot_ngt_mins tot_ngt_calls tot_ngt_chrgs tot_int_mins tot_int_calls  \\\n",
       "1   244.700000            91     11.010000    10.000000             3   \n",
       "2   254.400000           103     11.450000    13.700000             3   \n",
       "3   162.600000           104      7.320000    12.200000             5   \n",
       "4   196.900000            89      8.860000     6.600000             7   \n",
       "5   186.900000           121      8.410000    10.100000             3   \n",
       "\n",
       "  tot_int_chrgs cust_calls_made churn_status  \n",
       "1      2.700000               1            0  \n",
       "2      3.700000               1            0  \n",
       "3      3.290000               0            0  \n",
       "4      1.780000               2            0  \n",
       "5      2.730000               3            0  \n",
       "\n",
       "[5 rows x 21 columns]"
      ]
     },
     "execution_count": 9,
     "metadata": {},
     "output_type": "execute_result"
    }
   ],
   "source": [
    "data.head()"
   ]
  },
  {
   "cell_type": "code",
   "execution_count": 10,
   "metadata": {},
   "outputs": [
    {
     "name": "stdout",
     "output_type": "stream",
     "text": [
      "[0 1]\n",
      "[1 0]\n",
      "[0 1]\n"
     ]
    }
   ],
   "source": [
    "# unique values  \n",
    "print(data.Int_Plan.unique())\n",
    "print(data.Vmail_Plan.unique())\n",
    "print(data.churn_status.unique())"
   ]
  },
  {
   "cell_type": "code",
   "execution_count": 50,
   "metadata": {},
   "outputs": [],
   "source": [
    "# data['State'].value_counts().unique()"
   ]
  },
  {
   "cell_type": "code",
   "execution_count": 11,
   "metadata": {},
   "outputs": [
    {
     "data": {
      "text/plain": [
       "<matplotlib.axes._subplots.AxesSubplot at 0x221fa950cc0>"
      ]
     },
     "execution_count": 11,
     "metadata": {},
     "output_type": "execute_result"
    },
    {
     "data": {
      "image/png": "[encoded data removed]",
      "text/plain": [
       "<Figure size 1080x432 with 1 Axes>"
      ]
     },
     "metadata": {
      "needs_background": "light"
     },
     "output_type": "display_data"
    }
   ],
   "source": [
    "# Plotting Bar Chart of Unique count of State \n",
    "\n",
    "plt.rcParams['figure.figsize']=(15,6)\n",
    "\n",
    "sns.countplot(x=\"State\", data=data, order=data['State'].value_counts().index )\n"
   ]
  },
  {
   "cell_type": "code",
   "execution_count": 12,
   "metadata": {},
   "outputs": [
    {
     "name": "stderr",
     "output_type": "stream",
     "text": [
      "C:\\Users\\SUNEEL\\AppData\\Roaming\\Python\\Python36\\site-packages\\matplotlib\\axes\\_axes.py:6521: MatplotlibDeprecationWarning: \n",
      "The 'normed' kwarg was deprecated in Matplotlib 2.1 and will be removed in 3.1. Use 'density' instead.\n",
      "  alternative=\"'density'\", removal=\"3.1\")\n"
     ]
    },
    {
     "data": {
      "image/png": "[encoded data removed]",
      "text/plain": [
       "<Figure size 1080x432 with 1 Axes>"
      ]
     },
     "metadata": {
      "needs_background": "light"
     },
     "output_type": "display_data"
    },
    {
     "name": "stderr",
     "output_type": "stream",
     "text": [
      "C:\\Users\\SUNEEL\\AppData\\Roaming\\Python\\Python36\\site-packages\\matplotlib\\axes\\_axes.py:6521: MatplotlibDeprecationWarning: \n",
      "The 'normed' kwarg was deprecated in Matplotlib 2.1 and will be removed in 3.1. Use 'density' instead.\n",
      "  alternative=\"'density'\", removal=\"3.1\")\n"
     ]
    },
    {
     "data": {
      "image/png": "[encoded data removed]",
      "text/plain": [
       "<Figure size 1080x432 with 1 Axes>"
      ]
     },
     "metadata": {
      "needs_background": "light"
     },
     "output_type": "display_data"
    },
    {
     "name": "stderr",
     "output_type": "stream",
     "text": [
      "C:\\Users\\SUNEEL\\AppData\\Roaming\\Python\\Python36\\site-packages\\matplotlib\\axes\\_axes.py:6521: MatplotlibDeprecationWarning: \n",
      "The 'normed' kwarg was deprecated in Matplotlib 2.1 and will be removed in 3.1. Use 'density' instead.\n",
      "  alternative=\"'density'\", removal=\"3.1\")\n"
     ]
    },
    {
     "data": {
      "image/png": "[encoded data removed]",
      "text/plain": [
       "<Figure size 1080x432 with 1 Axes>"
      ]
     },
     "metadata": {
      "needs_background": "light"
     },
     "output_type": "display_data"
    },
    {
     "name": "stderr",
     "output_type": "stream",
     "text": [
      "C:\\Users\\SUNEEL\\AppData\\Roaming\\Python\\Python36\\site-packages\\matplotlib\\axes\\_axes.py:6521: MatplotlibDeprecationWarning: \n",
      "The 'normed' kwarg was deprecated in Matplotlib 2.1 and will be removed in 3.1. Use 'density' instead.\n",
      "  alternative=\"'density'\", removal=\"3.1\")\n"
     ]
    },
    {
     "data": {
      "image/png": "[encoded data removed]",
      "text/plain": [
       "<Figure size 1080x432 with 1 Axes>"
      ]
     },
     "metadata": {
      "needs_background": "light"
     },
     "output_type": "display_data"
    }
   ],
   "source": [
    "# Checking Distributions of the numerical features\n",
    "\n",
    "sns.distplot(data.tot_day_chrgs.astype(float))\n",
    "plt.show()\n",
    "sns.distplot(data.tot_evening_chrgs.astype(float))\n",
    "plt.show()\n",
    "sns.distplot(data.tot_ngt_chrgs.astype(float))\n",
    "plt.show()\n",
    "sns.distplot(data.tot_int_chrgs.astype(float))\n",
    "plt.show()"
   ]
  },
  {
   "cell_type": "code",
   "execution_count": 17,
   "metadata": {},
   "outputs": [
    {
     "data": {
      "text/plain": [
       "<matplotlib.axes._subplots.AxesSubplot at 0x221fd097b00>"
      ]
     },
     "execution_count": 17,
     "metadata": {},
     "output_type": "execute_result"
    },
    {
     "data": {
      "image/png": "[encoded data removed]",
      "text/plain": [
       "<Figure size 1080x432 with 1 Axes>"
      ]
     },
     "metadata": {
      "needs_background": "light"
     },
     "output_type": "display_data"
    }
   ],
   "source": [
    "# Plotting Barchart of Statewise Churning status\n",
    "sns.barplot(x=\"State\",y=\"churn_status\" ,data=data)"
   ]
  },
  {
   "cell_type": "code",
   "execution_count": 23,
   "metadata": {},
   "outputs": [
    {
     "data": {
      "text/plain": [
       "<matplotlib.axes._subplots.AxesSubplot at 0x221faabcdd8>"
      ]
     },
     "execution_count": 23,
     "metadata": {},
     "output_type": "execute_result"
    },
    {
     "data": {
      "image/png": "[encoded data removed]",
      "text/plain": [
       "<Figure size 1800x720 with 1 Axes>"
      ]
     },
     "metadata": {
      "needs_background": "light"
     },
     "output_type": "display_data"
    }
   ],
   "source": [
    "# Count of Churning Status with state wise   \n",
    "\n",
    "plt.rcParams[\"figure.figsize\"]=(25,10)\n",
    "var = data.groupby([\"State\",\"churn_status\"]).churn_status.count()\n",
    "var.plot(kind=\"bar\",color=[\"red\",\"green\"])\n"
   ]
  },
  {
   "cell_type": "code",
   "execution_count": 25,
   "metadata": {},
   "outputs": [
    {
     "data": {
      "text/plain": [
       "<matplotlib.axes._subplots.AxesSubplot at 0x221fe22fa90>"
      ]
     },
     "execution_count": 25,
     "metadata": {},
     "output_type": "execute_result"
    },
    {
     "data": {
      "image/png": "[encoded data removed]",
      "text/plain": [
       "<Figure size 1800x720 with 1 Axes>"
      ]
     },
     "metadata": {
      "needs_background": "light"
     },
     "output_type": "display_data"
    }
   ],
   "source": [
    "# Bar chart of Count of International plans with Churning Status\n",
    "Int_Plan = data.groupby([\"Int_Plan\",\"churn_status\"]).churn_status.count()\n",
    "Int_Plan.plot(kind=\"bar\",color=[\"red\",\"green\"])"
   ]
  },
  {
   "cell_type": "code",
   "execution_count": 26,
   "metadata": {},
   "outputs": [
    {
     "data": {
      "text/plain": [
       "<matplotlib.axes._subplots.AxesSubplot at 0x221fcd79a90>"
      ]
     },
     "execution_count": 26,
     "metadata": {},
     "output_type": "execute_result"
    },
    {
     "data": {
      "image/png": "[encoded data removed]",
      "text/plain": [
       "<Figure size 1800x720 with 1 Axes>"
      ]
     },
     "metadata": {
      "needs_background": "light"
     },
     "output_type": "display_data"
    }
   ],
   "source": [
    "# Count of Vmail_Plans with Churning Status.\n",
    "Vmail_Plan = data.groupby([\"Vmail_Plan\",\"churn_status\"]).churn_status.count()\n",
    "Vmail_Plan.plot(kind=\"bar\",color=[\"red\",\"green\"])"
   ]
  },
  {
   "cell_type": "code",
   "execution_count": 51,
   "metadata": {},
   "outputs": [
    {
     "name": "stdout",
     "output_type": "stream",
     "text": [
      "Vmail_Plan     -0.102148\n",
      "Int_Plan        0.259852\n",
      "churn_status    1.000000\n",
      "Name: churn_status, dtype: float64 \n",
      "\n",
      "Vmail_Plan     -0.102148\n",
      "Int_Plan        0.259852\n",
      "churn_status    1.000000\n",
      "Name: churn_status, dtype: float64\n"
     ]
    }
   ],
   "source": [
    "correlations_data = data.corr()['churn_status'].sort_values()\n",
    "\n",
    "# Print the most negative correlations\n",
    "print(correlations_data.head(15), '\\n')\n",
    "\n",
    "# Print the most positive correlations\n",
    "print(correlations_data.tail(15))"
   ]
  },
  {
   "cell_type": "code",
   "execution_count": 52,
   "metadata": {},
   "outputs": [],
   "source": [
    "def remove_collinear_features(x, threshold):\n",
    "    '''\n",
    "    Objective:\n",
    "        Remove collinear features in a dataframe with a correlation coefficient\n",
    "        greater than the threshold. Removing collinear features can help a model\n",
    "        to generalize and improves the interpretability of the model.\n",
    "        \n",
    "    Inputs: \n",
    "        threshold: any features with correlations greater than this value are removed\n",
    "    \n",
    "    Output: \n",
    "        dataframe that contains only the non-highly-collinear features\n",
    "    '''\n",
    "    \n",
    "    # Dont want to remove correlations between loss\n",
    "    y = x['churn_status']\n",
    "    x = x.drop(columns = ['churn_status'])\n",
    "    \n",
    "    # Calculate the correlation matrix\n",
    "    corr_matrix = x.corr()\n",
    "    iters = range(len(corr_matrix.columns) - 1)\n",
    "    drop_cols = []\n",
    "\n",
    "    # Iterate through the correlation matrix and compare correlations\n",
    "    for i in iters:\n",
    "        for j in range(i):\n",
    "            item = corr_matrix.iloc[j:(j+1), (i+1):(i+2)]\n",
    "            col = item.columns\n",
    "            row = item.index\n",
    "            val = abs(item.values)\n",
    "            \n",
    "            # If correlation exceeds the threshold\n",
    "            if val >= threshold:\n",
    "                # Print the correlated features and the correlation value\n",
    "                # print(col.values[0], \"|\", row.values[0], \"|\", round(val[0][0], 2))\n",
    "                drop_cols.append(col.values[0])\n",
    "\n",
    "    # Drop one of each pair of correlated columns\n",
    "    drops = set(drop_cols)\n",
    "    x = x.drop(columns = drops)\n",
    "    \n",
    "    # Add the score back in to the data\n",
    "    x['churn_status'] = y\n",
    "               \n",
    "    return x"
   ]
  },
  {
   "cell_type": "code",
   "execution_count": 54,
   "metadata": {},
   "outputs": [
    {
     "data": {
      "text/plain": [
       "(3333, 21)"
      ]
     },
     "execution_count": 54,
     "metadata": {},
     "output_type": "execute_result"
    }
   ],
   "source": [
    "# Remove the collinear features above a specified correlation coefficient\n",
    "data = remove_collinear_features(data, 0.6);\n",
    "data.shape"
   ]
  },
  {
   "cell_type": "code",
   "execution_count": 29,
   "metadata": {},
   "outputs": [],
   "source": [
    "feature_cols =['Account_Len','Area','Int_Plan','Vmail_Plan','messgs',\n",
    "            'tot_day_mins','tot_day_calls','tot_day_chrgs','tot_evening_mins',\n",
    "            'tot_evening_calls','tot_evening_chrgs','tot_ngt_mins','tot_ngt_calls',\n",
    "            'tot_ngt_chrgs','tot_int_mins','tot_int_calls','tot_int_chrgs',\n",
    "'cust_calls_made']\n",
    "\n",
    "# Divising DataSet in to Feature Set and Target Set\n",
    "\n",
    "X = data[feature_cols]\n",
    "y = data.churn_status"
   ]
  },
  {
   "cell_type": "code",
   "execution_count": 30,
   "metadata": {},
   "outputs": [
    {
     "name": "stdout",
     "output_type": "stream",
     "text": [
      "(2666, 18)\n",
      "(667, 18)\n",
      "(2666,)\n",
      "(667,)\n"
     ]
    }
   ],
   "source": [
    "# Dividing in to Training and Validation Sets \n",
    "\n",
    "from sklearn.model_selection import train_test_split\n",
    "X_train,X_test,y_train,y_test= train_test_split(X,y,test_size=0.2,random_state=45)\n",
    "\n",
    "print(X_train.shape)\n",
    "print(X_test.shape)\n",
    "print(y_train.shape)\n",
    "print(y_test.shape)"
   ]
  },
  {
   "cell_type": "markdown",
   "metadata": {},
   "source": [
    "# Perform Logistic Regression"
   ]
  },
  {
   "cell_type": "code",
   "execution_count": 31,
   "metadata": {},
   "outputs": [
    {
     "name": "stdout",
     "output_type": "stream",
     "text": [
      "Model Score :  86.38\n",
      "Accuracy_Score :  0.8575712143928036\n"
     ]
    },
    {
     "name": "stderr",
     "output_type": "stream",
     "text": [
      "C:\\Users\\SUNEEL\\Anaconda3\\lib\\site-packages\\sklearn\\linear_model\\logistic.py:433: FutureWarning: Default solver will be changed to 'lbfgs' in 0.22. Specify a solver to silence this warning.\n",
      "  FutureWarning)\n"
     ]
    }
   ],
   "source": [
    "from sklearn.linear_model import LogisticRegression\n",
    "lg = LogisticRegression()\n",
    "lg.fit(X_train,y_train)\n",
    "lg_pred = lg.predict(X_test)\n",
    "\n",
    "Model_lg = round(lg.score(X_train,y_train)*100,2)\n",
    "print(\"Model Score : \" ,Model_lg)\n",
    "Accuracy_lg = accuracy_score(lg_pred,y_test)\n",
    "print(\"Accuracy_Score : \", Accuracy_lg)\n"
   ]
  },
  {
   "cell_type": "code",
   "execution_count": 37,
   "metadata": {},
   "outputs": [
    {
     "name": "stdout",
     "output_type": "stream",
     "text": [
      "Confusion Matrix :\n",
      "[[555  17]\n",
      " [ 78  17]]\n",
      "Accuracy Score : 0.8575712143928036\n",
      "Report : \n",
      "              precision    recall  f1-score   support\n",
      "\n",
      "           0       0.88      0.97      0.92       572\n",
      "           1       0.50      0.18      0.26        95\n",
      "\n",
      "   micro avg       0.86      0.86      0.86       667\n",
      "   macro avg       0.69      0.57      0.59       667\n",
      "weighted avg       0.82      0.86      0.83       667\n",
      "\n"
     ]
    }
   ],
   "source": [
    "# Confusion Matrix \n",
    "from sklearn import metrics\n",
    "from sklearn.metrics import classification_report \n",
    "\n",
    "mtr = metrics.confusion_matrix(y_test,lg_pred)\n",
    "print('Confusion Matrix :')\n",
    "print(mtr) \n",
    "print('Accuracy Score :',accuracy_score(y_test,lg_pred)) \n",
    "print ('Report : ')\n",
    "print(classification_report(y_test,lg_pred)) "
   ]
  },
  {
   "cell_type": "markdown",
   "metadata": {},
   "source": [
    "# Random Forest Tree"
   ]
  },
  {
   "cell_type": "code",
   "execution_count": 44,
   "metadata": {},
   "outputs": [
    {
     "name": "stdout",
     "output_type": "stream",
     "text": [
      "Model Score :  89.05\n",
      "Accuracy_Score :  0.8755622188905547\n"
     ]
    }
   ],
   "source": [
    "from sklearn import tree\n",
    "from sklearn.ensemble import RandomForestClassifier\n",
    "rfc = RandomForestClassifier(max_depth = 3, min_samples_split=2, n_estimators = 200, random_state = 1)\n",
    "\n",
    "rfc.fit(X_train,y_train)\n",
    "rfc_Pred = rfc.predict(X_test).astype(int)\n",
    "\n",
    "model_rfc = round(rfc.score(X_train,y_train)*100,2)\n",
    "print(\"Model Score : \" ,model_rfc)\n",
    "Accuracy_rfc = metrics.accuracy_score(rfc_Pred,y_test,normalize=True)\n",
    "print(\"Accuracy_Score : \", Accuracy_rfc)\n"
   ]
  },
  {
   "cell_type": "code",
   "execution_count": 46,
   "metadata": {},
   "outputs": [
    {
     "name": "stdout",
     "output_type": "stream",
     "text": [
      "Confusion Matrix :\n",
      "[[569   3]\n",
      " [ 80  15]]\n",
      "Accuracy Score : 0.8755622188905547\n",
      "Report : \n",
      "              precision    recall  f1-score   support\n",
      "\n",
      "           0       0.88      0.99      0.93       572\n",
      "           1       0.83      0.16      0.27        95\n",
      "\n",
      "   micro avg       0.88      0.88      0.88       667\n",
      "   macro avg       0.86      0.58      0.60       667\n",
      "weighted avg       0.87      0.88      0.84       667\n",
      "\n"
     ]
    }
   ],
   "source": [
    "#Confusion Metrix \n",
    "\n",
    "from sklearn import metrics\n",
    "\n",
    "\n",
    "cnf_metrix = metrics.confusion_matrix(y_test,rfc_Pred)\n",
    "print('Confusion Matrix :')\n",
    "print(cnf_metrix) \n",
    "print('Accuracy Score :',accuracy_score(y_test,rfc_Pred)) \n",
    "print ('Report : ')\n",
    "print(classification_report(y_test,rfc_Pred)) \n"
   ]
  },
  {
   "cell_type": "code",
   "execution_count": 47,
   "metadata": {},
   "outputs": [
    {
     "name": "stdout",
     "output_type": "stream",
     "text": [
      "5 Fold Cross validation Scores : [0.87706147 0.87856072 0.88755622 0.87837838 0.88288288]\n",
      "Mean of 5 Fold Cross Validation Scores :  0.8808879344111729\n"
     ]
    }
   ],
   "source": [
    "#Cross Validation\n",
    "from sklearn.model_selection import cross_val_score\n",
    "scores = cross_val_score(rfc, X, y, cv=5, scoring='accuracy') \n",
    "print(\"5 Fold Cross validation Scores :\",scores)\n",
    "print(\"Mean of 5 Fold Cross Validation Scores : \" ,scores.mean())"
   ]
  },
  {
   "cell_type": "markdown",
   "metadata": {},
   "source": [
    "# Feature Importance"
   ]
  },
  {
   "cell_type": "code",
   "execution_count": 49,
   "metadata": {},
   "outputs": [
    {
     "data": {
      "image/png": "[encoded data removed]",
      "text/plain": [
       "<Figure size 1800x720 with 1 Axes>"
      ]
     },
     "metadata": {
      "needs_background": "light"
     },
     "output_type": "display_data"
    }
   ],
   "source": [
    "feature_importance = {X_train.columns[item] : rfc.feature_importances_[item] for item in range(0,14)}\n",
    "list_order = sorted(feature_importance,key=feature_importance.get,reverse=True)\n",
    "\n",
    "sns.barplot([feature_importance[item] for item in list_order],list_order)\n",
    "plt.show()"
   ]
  },
  {
   "cell_type": "code",
   "execution_count": null,
   "metadata": {},
   "outputs": [],
   "source": []
  }
 ],
 "metadata": {
  "kernelspec": {
   "display_name": "Python 3",
   "language": "python",
   "name": "python3"
  },
  "language_info": {
   "codemirror_mode": {
    "name": "ipython",
    "version": 3
   },
   "file_extension": ".py",
   "mimetype": "text/x-python",
   "name": "python",
   "nbconvert_exporter": "python",
   "pygments_lexer": "ipython3",
   "version": "3.6.6"
  }
 },
 "nbformat": 4,
 "nbformat_minor": 2
}
